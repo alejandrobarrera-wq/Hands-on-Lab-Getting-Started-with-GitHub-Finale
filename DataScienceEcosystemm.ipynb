{
 "cells": [
  {
   "cell_type": "markdown",
   "id": "6742bfa3-7d9b-47be-b21a-d4f998b6ee3f",
   "metadata": {},
   "source": [
    "# Data Science Tools and Ecosystem"
   ]
  },
  {
   "cell_type": "markdown",
   "id": "4b426808-7520-417b-8384-2dbf693f6bb4",
   "metadata": {},
   "source": [
    "In this notebook, Data Science Tools and Ecosystem are summarized."
   ]
  },
  {
   "cell_type": "markdown",
   "id": "624fa04d-9b3c-44ff-8bed-2b3f91fe450b",
   "metadata": {},
   "source": [
    "# Some of the popular languages that Data Scientists use are:\n",
    "1. Python\n",
    "2. HTML\n",
    "3. java\n"
   ]
  },
  {
   "cell_type": "markdown",
   "id": "c1136b6a-aa9b-4a0d-b995-9aa553aeba53",
   "metadata": {},
   "source": [
    "**Objectives:**\n",
    "- List popular languages for Data Science  \n",
    "- Identify commonly used libraries used by Data Scientists  \n",
    "- Create tables using markdown  \n",
    "- Perform basic arithmetic expressions in Python  \n",
    "- Convert minutes to hours using Python code"
   ]
  },
  {
   "cell_type": "markdown",
   "id": "9328464e-fd2c-48ba-bc7b-b6f79861e6c6",
   "metadata": {},
   "source": [
    "# Some of the commonly used libraries used by Data Scientists include:\n",
    "1. numpy\n",
    "2. Matplotlib\n",
    "3. pandas"
   ]
  },
  {
   "cell_type": "markdown",
   "id": "ac4f2cad-7592-4a86-8ddf-7dcc46364ad9",
   "metadata": {},
   "source": [
    "| Data science tools| \n",
    "| -------------| \n",
    "| Jupyter notebook | \n",
    "| Visual studio | \n",
    "| R| "
   ]
  },
  {
   "cell_type": "markdown",
   "id": "dd1c52e6-120a-4577-9287-65b5c62030ea",
   "metadata": {},
   "source": [
    "### Below are a few examples of evaluating arithmetic expressions in Python"
   ]
  },
  {
   "cell_type": "code",
   "execution_count": 4,
   "id": "f02d5bb3-6313-47a2-9bf4-81a98eb1e2ba",
   "metadata": {},
   "outputs": [
    {
     "data": {
      "text/plain": [
       "17"
      ]
     },
     "execution_count": 4,
     "metadata": {},
     "output_type": "execute_result"
    }
   ],
   "source": [
    "#This a simple arithmetic expression to mutiply then add integers\n",
    "(3*4)+5"
   ]
  },
  {
   "cell_type": "code",
   "execution_count": 5,
   "id": "07f72447-a93d-4c63-b88c-d9e265190ac8",
   "metadata": {},
   "outputs": [
    {
     "data": {
      "text/plain": [
       "3.3333333333333335"
      ]
     },
     "execution_count": 5,
     "metadata": {},
     "output_type": "execute_result"
    }
   ],
   "source": [
    " #This will convert 200 minutes to hours by diving by 60\n",
    "200/60 "
   ]
  },
  {
   "cell_type": "markdown",
   "id": "2e1b1e9e-5c0d-494c-848b-42902715fd14",
   "metadata": {},
   "source": [
    "## Alejandro (author)\n",
    "**Alejandro barrera ruiz**"
   ]
  }
 ],
 "metadata": {
  "kernelspec": {
   "display_name": "Python 3 (ipykernel)",
   "language": "python",
   "name": "python3"
  },
  "language_info": {
   "codemirror_mode": {
    "name": "ipython",
    "version": 3
   },
   "file_extension": ".py",
   "mimetype": "text/x-python",
   "name": "python",
   "nbconvert_exporter": "python",
   "pygments_lexer": "ipython3",
   "version": "3.12.8"
  }
 },
 "nbformat": 4,
 "nbformat_minor": 5
}
